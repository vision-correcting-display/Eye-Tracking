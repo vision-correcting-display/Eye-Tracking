{
 "cells": [
  {
   "cell_type": "code",
   "execution_count": null,
   "id": "fc3d9e69",
   "metadata": {},
   "outputs": [],
   "source": [
    "import matplotlib.image as mpimg\n",
    "import matplotlib.pyplot as plt\n",
    "import numpy as np\n",
    "import cv2"
   ]
  },
  {
   "cell_type": "code",
   "execution_count": null,
   "id": "e63c6c4d",
   "metadata": {},
   "outputs": [],
   "source": [
    "def canny(image_color):\n",
    "    threshold_1 = 30\n",
    "    threshold_2 = 80\n",
    "    image_gray = cv2.cvtColor(image_color, cv2.COLOR_BGR2GRAY)\n",
    "    canny = cv2.Canny(image_gray, threshold_1, threshold_2)\n",
    "    \n",
    "    return canny\n",
    "\n"
   ]
  },
  {
   "cell_type": "code",
   "execution_count": null,
   "id": "80f0ffc5",
   "metadata": {},
   "outputs": [],
   "source": [
    "def laplace(image_color):\n",
    "    image_gray = cv2.cvtColor(image_color, cv2.COLOR_BGR2GRAY)\n",
    "    laplacian = cv2.Laplacian(image_gray, cv2.CV_64F)\n",
    "    \n",
    "    return laplacian"
   ]
  },
  {
   "cell_type": "code",
   "execution_count": null,
   "id": "a44f2046",
   "metadata": {},
   "outputs": [],
   "source": [
    "def sobel_x(image_color, kernel_size=7):\n",
    "    image_gray = cv2.cvtColor(image_color, cv2.COLOR_BGR2GRAY)\n",
    "    x_sobel = cv2.Sobel(image_gray, cv2.CV_64F, 1, 0, ksize = kernel_size)\n",
    "    \n",
    "    return x_sobel"
   ]
  },
  {
   "cell_type": "code",
   "execution_count": null,
   "id": "978d3cc1",
   "metadata": {},
   "outputs": [],
   "source": [
    "def sobel_y(img_color, kernel_size=7):\n",
    "    image_gray = cv2.cvtColor(image_color, cv2.COLOR_BGR2GRAY)\n",
    "    y_sobel = cv2.Sobel(image_gray, cv2.CV_64F, 0, 1, ksize = kernel_size)\n",
    "    \n",
    "    return y_sobel"
   ]
  },
  {
   "cell_type": "code",
   "execution_count": null,
   "id": "abcfb9f2",
   "metadata": {},
   "outputs": [],
   "source": [
    "#Main Function\n",
    "\n",
    "if __name__ == \"__main__\":\n",
    "    cap = cv2.VideoCapture(0)\n",
    "\n",
    "    while True:\n",
    "        ret, frame = cap.read() # Cap.read() returns a ret bool to indicate success.\n",
    "        cv2.imshow('Live Edge Detection', canny(frame))\n",
    "        cv2.imshow('Webcam Video', frame)\n",
    "        if cv2.waitKey(1) == 13: #13 Enter Key\n",
    "            break\n",
    "\n",
    "    cap.release() # camera release \n",
    "    cv2.destroyAllWindows()   \n",
    "    "
   ]
  }
 ],
 "metadata": {
  "kernelspec": {
   "display_name": "Python 3",
   "language": "python",
   "name": "python3"
  },
  "language_info": {
   "codemirror_mode": {
    "name": "ipython",
    "version": 3
   },
   "file_extension": ".py",
   "mimetype": "text/x-python",
   "name": "python",
   "nbconvert_exporter": "python",
   "pygments_lexer": "ipython3",
   "version": "3.8.8"
  }
 },
 "nbformat": 4,
 "nbformat_minor": 5
}
